{
 "cells": [
  {
   "cell_type": "code",
   "execution_count": 1,
   "metadata": {},
   "outputs": [],
   "source": [
    "# blockparty_analysis package\n",
    "import query_db, ops"
   ]
  },
  {
   "cell_type": "code",
   "execution_count": 2,
   "metadata": {},
   "outputs": [],
   "source": [
    "import pandas as pd\n",
    "import importlib\n",
    "import pymongo\n",
    "import yaml\n",
    "import numpy as np"
   ]
  },
  {
   "cell_type": "code",
   "execution_count": 11,
   "metadata": {},
   "outputs": [
    {
     "data": {
      "text/plain": [
       "<module 'query_db' from '/Users/sarah/Documents/repos/block_party/analysis_tools/query_db.py'>"
      ]
     },
     "execution_count": 11,
     "metadata": {},
     "output_type": "execute_result"
    }
   ],
   "source": [
    "# to refresh changes to package\n",
    "importlib.reload(query_db)"
   ]
  },
  {
   "attachments": {},
   "cell_type": "markdown",
   "metadata": {},
   "source": [
    "# Query Database\n",
    "\n",
    "The scope of this notebook demonstrates a workflow that connects to the mongoDB and filters the collection of Block Party transcripts by a specific list of words using regex search.\n",
    "\n",
    "The standard list of columns to export as a dataframe is defined by a YAML file. A API key is required to be able to reproduce the workflow, and should be saved outside of the repository. "
   ]
  },
  {
   "cell_type": "code",
   "execution_count": 4,
   "metadata": {},
   "outputs": [],
   "source": [
    "# Create an instance of the Constants class and pass the path to the YAML file\n",
    "constants = ops.Constants('../analysis_tools/config.yaml')\n",
    "# Access the data in the YAML file\n",
    "columns_to_output = constants.constants['standard_column_list']\n"
   ]
  },
  {
   "attachments": {},
   "cell_type": "markdown",
   "metadata": {},
   "source": [
    "Filter database for any transcript that contains input word."
   ]
  },
  {
   "cell_type": "code",
   "execution_count": 9,
   "metadata": {},
   "outputs": [],
   "source": [
    "key_file_path = ops.pass_key('/Users/sarah/Documents/keys/mongo_key')"
   ]
  },
  {
   "cell_type": "code",
   "execution_count": 14,
   "metadata": {},
   "outputs": [],
   "source": [
    "# Connect to database\n",
    "client = pymongo.MongoClient(key_file_path)\n",
    "filter = query_db.MongoDBFilter(client, 'community-board', 'transcripts_v4')"
   ]
  },
  {
   "attachments": {},
   "cell_type": "markdown",
   "metadata": {},
   "source": [
    "Structure of each dataframe will be a list of words to filter by, if a transcript contains any of the words it will pass through the filter."
   ]
  },
  {
   "cell_type": "code",
   "execution_count": 7,
   "metadata": {},
   "outputs": [],
   "source": [
    "zoning_word_list = ['[Zz]oning']"
   ]
  },
  {
   "cell_type": "code",
   "execution_count": 24,
   "metadata": {},
   "outputs": [
    {
     "name": "stdout",
     "output_type": "stream",
     "text": [
      "searching for: [Zz]oning\n"
     ]
    }
   ],
   "source": [
    "results = filter.filter_by_regex(\"properties.fullTranscript\", zoning_word_list, projection=columns_to_output)"
   ]
  },
  {
   "attachments": {},
   "cell_type": "markdown",
   "metadata": {},
   "source": [
    "If the response collection is very large the conversion to a dataframe takes a very long time...\n",
    "\n",
    "Todo: see if more efficient method to convert json to dataframe. (it took 34 minutes!)"
   ]
  },
  {
   "cell_type": "code",
   "execution_count": 14,
   "metadata": {},
   "outputs": [
    {
     "name": "stdout",
     "output_type": "stream",
     "text": [
      "Creating dataframe from database query...\n",
      "Dataframe created...\n",
      "Transformed col videoURL...\n",
      "Transformed col normalizedName...\n",
      "Transformed col publishDate...\n",
      "Transformed col title...\n",
      "Transformed col meetingType...\n",
      "Transformed col fullTranscript...\n",
      "Transformed col lengthSeconds...\n",
      "Transformed col wordCountFullTranscript...\n",
      "Transformed col wordCountSummary...\n"
     ]
    }
   ],
   "source": [
    "df = query_db.flatten_docs_by_columns(results, columns_to_output)"
   ]
  },
  {
   "cell_type": "code",
   "execution_count": 15,
   "metadata": {},
   "outputs": [],
   "source": [
    "client.close()"
   ]
  },
  {
   "attachments": {},
   "cell_type": "markdown",
   "metadata": {},
   "source": [
    "Todo: turn the following into a helper function in addition to creating set from key sentences."
   ]
  },
  {
   "cell_type": "code",
   "execution_count": null,
   "metadata": {},
   "outputs": [],
   "source": [
    "# 5 older transcripts missing lengthSeconds \n",
    "df['lengthSeconds'].replace('NaN', np.NaN, inplace=True)\n",
    "df['publishDate'] = pd.to_datetime(df['publishDate'], format='%Y-%m-%dT%H:%M:%S')\n",
    "df['videoURL'] = df['videoURL'].apply(lambda x: f\"https://www.youtube.com/watch?v={x}\")"
   ]
  },
  {
   "cell_type": "code",
   "execution_count": 15,
   "metadata": {},
   "outputs": [
    {
     "data": {
      "text/plain": [
       "(2052, 10)"
      ]
     },
     "execution_count": 15,
     "metadata": {},
     "output_type": "execute_result"
    }
   ],
   "source": [
    "df.shape"
   ]
  },
  {
   "cell_type": "code",
   "execution_count": 28,
   "metadata": {},
   "outputs": [],
   "source": [
    "df.to_pickle(\"../data/zoning_case_study.pkl\")"
   ]
  },
  {
   "cell_type": "code",
   "execution_count": null,
   "metadata": {},
   "outputs": [],
   "source": [
    "# todo: for each fulltranscript start to use text_search.py to unpack"
   ]
  },
  {
   "cell_type": "code",
   "execution_count": 18,
   "metadata": {},
   "outputs": [
    {
     "data": {
      "text/html": [
       "<div>\n",
       "<style scoped>\n",
       "    .dataframe tbody tr th:only-of-type {\n",
       "        vertical-align: middle;\n",
       "    }\n",
       "\n",
       "    .dataframe tbody tr th {\n",
       "        vertical-align: top;\n",
       "    }\n",
       "\n",
       "    .dataframe thead th {\n",
       "        text-align: right;\n",
       "    }\n",
       "</style>\n",
       "<table border=\"1\" class=\"dataframe\">\n",
       "  <thead>\n",
       "    <tr style=\"text-align: right;\">\n",
       "      <th></th>\n",
       "      <th>_id</th>\n",
       "      <th>videoURL</th>\n",
       "      <th>normalizedName</th>\n",
       "      <th>publishDate</th>\n",
       "      <th>title</th>\n",
       "      <th>meetingType</th>\n",
       "      <th>fullTranscript</th>\n",
       "      <th>lengthSeconds</th>\n",
       "      <th>wordCountFullTranscript</th>\n",
       "      <th>wordCountSummary</th>\n",
       "    </tr>\n",
       "  </thead>\n",
       "  <tbody>\n",
       "    <tr>\n",
       "      <th>4</th>\n",
       "      <td>5fe7e243539a4d487dc18b6e</td>\n",
       "      <td>g1gcT-cVsWM</td>\n",
       "      <td>Manhattan Community Board 8</td>\n",
       "      <td>2020-12-10T00:00:00</td>\n",
       "      <td>Land Use Committee Meeting</td>\n",
       "      <td>[[0.541478157043457, Zoning], [0.0916235074400...</td>\n",
       "      <td>Foreign me, okay, will tell me when it's a goo...</td>\n",
       "      <td>3:14:40</td>\n",
       "      <td>{'building': 136, 'buildings': 100, 'flood': 9...</td>\n",
       "      <td>{'building': 47, 'flood': 38, 'buildings': 29,...</td>\n",
       "    </tr>\n",
       "    <tr>\n",
       "      <th>6</th>\n",
       "      <td>5fe7e243539a4d487dc18b75</td>\n",
       "      <td>CL5991ZAYHY</td>\n",
       "      <td>Manhattan Community Board 8</td>\n",
       "      <td>2020-07-14T00:00:00</td>\n",
       "      <td>Landmarks Committee Meeting</td>\n",
       "      <td>[[0.14057375490665436, Infrastructure], [0.099...</td>\n",
       "      <td>Let me know when you're ready for me to take d...</td>\n",
       "      <td>2:48:07</td>\n",
       "      <td>{'building': 125, 'sidewalk': 37, 'feet': 36, ...</td>\n",
       "      <td>{'building': 44, 'equipment': 12, 'windows': 1...</td>\n",
       "    </tr>\n",
       "    <tr>\n",
       "      <th>11</th>\n",
       "      <td>5fe7e244539a4d487dc18b88</td>\n",
       "      <td>iFmGCX6Sf_0</td>\n",
       "      <td>Manhattan Community Board 8</td>\n",
       "      <td>2020-11-20T00:00:00</td>\n",
       "      <td>Environment &amp; Sanitation Meeting</td>\n",
       "      <td>[[0.1319103091955185, Quality of Life], [0.123...</td>\n",
       "      <td>All right, let's just give it another minute h...</td>\n",
       "      <td>2:07:30</td>\n",
       "      <td>{'rats': 50, 'monitoring': 36, 'rat': 34, 'pro...</td>\n",
       "      <td>{'rats': 13, 'monitoring': 9, 'sanitation': 7,...</td>\n",
       "    </tr>\n",
       "    <tr>\n",
       "      <th>21</th>\n",
       "      <td>5fe7e244539a4d487dc18b98</td>\n",
       "      <td>Fl7m8RlNeg4</td>\n",
       "      <td>Manhattan Community Board 8</td>\n",
       "      <td>2020-11-25T00:00:00</td>\n",
       "      <td>Housing Committee Meeting</td>\n",
       "      <td>[[0.7631369233131409, Housing], [0.10599086433...</td>\n",
       "      <td>And see me by the way will when we do, the min...</td>\n",
       "      <td>1:24:45</td>\n",
       "      <td>{'housing': 128, 'rent': 38, 'state': 30, 'lan...</td>\n",
       "      <td>{'housing': 49, 'state': 8, 'land': 8, 'income...</td>\n",
       "    </tr>\n",
       "    <tr>\n",
       "      <th>34</th>\n",
       "      <td>5fe7e245539a4d487dc18bb7</td>\n",
       "      <td>BcjOwgr4WEI</td>\n",
       "      <td>Manhattan Community Board 8</td>\n",
       "      <td>2020-12-01T00:00:00</td>\n",
       "      <td>Resource Sharing Session with MAS' Livable Nei...</td>\n",
       "      <td>[[0.7714632153511047, Zoning], [0.137315973639...</td>\n",
       "      <td>Good, okay, so good evening, everyone and welc...</td>\n",
       "      <td>1:45:38</td>\n",
       "      <td>{'zoning': 64, 'project': 64, 'building': 41, ...</td>\n",
       "      <td>{'project': 18, 'land': 15, 'zoning': 15, 'rev...</td>\n",
       "    </tr>\n",
       "  </tbody>\n",
       "</table>\n",
       "</div>"
      ],
      "text/plain": [
       "                         _id     videoURL               normalizedName  \\\n",
       "4   5fe7e243539a4d487dc18b6e  g1gcT-cVsWM  Manhattan Community Board 8   \n",
       "6   5fe7e243539a4d487dc18b75  CL5991ZAYHY  Manhattan Community Board 8   \n",
       "11  5fe7e244539a4d487dc18b88  iFmGCX6Sf_0  Manhattan Community Board 8   \n",
       "21  5fe7e244539a4d487dc18b98  Fl7m8RlNeg4  Manhattan Community Board 8   \n",
       "34  5fe7e245539a4d487dc18bb7  BcjOwgr4WEI  Manhattan Community Board 8   \n",
       "\n",
       "            publishDate                                              title  \\\n",
       "4   2020-12-10T00:00:00                         Land Use Committee Meeting   \n",
       "6   2020-07-14T00:00:00                        Landmarks Committee Meeting   \n",
       "11  2020-11-20T00:00:00                   Environment & Sanitation Meeting   \n",
       "21  2020-11-25T00:00:00                          Housing Committee Meeting   \n",
       "34  2020-12-01T00:00:00  Resource Sharing Session with MAS' Livable Nei...   \n",
       "\n",
       "                                          meetingType  \\\n",
       "4   [[0.541478157043457, Zoning], [0.0916235074400...   \n",
       "6   [[0.14057375490665436, Infrastructure], [0.099...   \n",
       "11  [[0.1319103091955185, Quality of Life], [0.123...   \n",
       "21  [[0.7631369233131409, Housing], [0.10599086433...   \n",
       "34  [[0.7714632153511047, Zoning], [0.137315973639...   \n",
       "\n",
       "                                       fullTranscript lengthSeconds  \\\n",
       "4   Foreign me, okay, will tell me when it's a goo...       3:14:40   \n",
       "6   Let me know when you're ready for me to take d...       2:48:07   \n",
       "11  All right, let's just give it another minute h...       2:07:30   \n",
       "21  And see me by the way will when we do, the min...       1:24:45   \n",
       "34  Good, okay, so good evening, everyone and welc...       1:45:38   \n",
       "\n",
       "                              wordCountFullTranscript  \\\n",
       "4   {'building': 136, 'buildings': 100, 'flood': 9...   \n",
       "6   {'building': 125, 'sidewalk': 37, 'feet': 36, ...   \n",
       "11  {'rats': 50, 'monitoring': 36, 'rat': 34, 'pro...   \n",
       "21  {'housing': 128, 'rent': 38, 'state': 30, 'lan...   \n",
       "34  {'zoning': 64, 'project': 64, 'building': 41, ...   \n",
       "\n",
       "                                     wordCountSummary  \n",
       "4   {'building': 47, 'flood': 38, 'buildings': 29,...  \n",
       "6   {'building': 44, 'equipment': 12, 'windows': 1...  \n",
       "11  {'rats': 13, 'monitoring': 9, 'sanitation': 7,...  \n",
       "21  {'housing': 49, 'state': 8, 'land': 8, 'income...  \n",
       "34  {'project': 18, 'land': 15, 'zoning': 15, 'rev...  "
      ]
     },
     "execution_count": 18,
     "metadata": {},
     "output_type": "execute_result"
    }
   ],
   "source": [
    "df[df['normalizedName'] == 'Manhattan Community Board 8'].head()"
   ]
  },
  {
   "cell_type": "code",
   "execution_count": 2,
   "metadata": {},
   "outputs": [],
   "source": [
    "df = pd.read_pickle(\"../data/zoning_case_study.pkl\")"
   ]
  },
  {
   "cell_type": "code",
   "execution_count": 3,
   "metadata": {},
   "outputs": [
    {
     "data": {
      "text/plain": [
       "(2052, 10)"
      ]
     },
     "execution_count": 3,
     "metadata": {},
     "output_type": "execute_result"
    }
   ],
   "source": [
    "df.shape"
   ]
  },
  {
   "cell_type": "code",
   "execution_count": 20,
   "metadata": {},
   "outputs": [],
   "source": [
    "df.drop(columns=[\"fullTranscript\"]).to_csv(\"../data/zoning_case_study_metadata.csv\", index=False)"
   ]
  },
  {
   "cell_type": "code",
   "execution_count": null,
   "metadata": {},
   "outputs": [],
   "source": []
  }
 ],
 "metadata": {
  "kernelspec": {
   "display_name": "bp_analysis",
   "language": "python",
   "name": "python3"
  },
  "language_info": {
   "codemirror_mode": {
    "name": "ipython",
    "version": 3
   },
   "file_extension": ".py",
   "mimetype": "text/x-python",
   "name": "python",
   "nbconvert_exporter": "python",
   "pygments_lexer": "ipython3",
   "version": "3.8.15 (default, Nov 10 2022, 13:17:42) \n[Clang 14.0.6 ]"
  },
  "orig_nbformat": 4,
  "vscode": {
   "interpreter": {
    "hash": "049acf96e58ef2d19e530dc84ac35dc34ddb78048b8d5549b7aabf27efd4ef0a"
   }
  }
 },
 "nbformat": 4,
 "nbformat_minor": 2
}
